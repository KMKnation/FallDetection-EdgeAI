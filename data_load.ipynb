{
 "cells": [
  {
   "cell_type": "code",
   "execution_count": 40,
   "metadata": {},
   "outputs": [],
   "source": [
    "import pandas as pd\n"
   ]
  },
  {
   "cell_type": "code",
   "execution_count": 2,
   "metadata": {},
   "outputs": [],
   "source": [
    "filename = '/home/hb/machinelearning/Realtime-Fall-Detection-for-RNN/dataset/MobiFall_Dataset_v2.0/sub1/FALLS/SDL/SDL_ori_1_3.txt'"
   ]
  },
  {
   "cell_type": "code",
   "execution_count": 3,
   "metadata": {},
   "outputs": [],
   "source": [
    "df =  pd.read_csv(filename, skiprows=16, header=None)"
   ]
  },
  {
   "cell_type": "code",
   "execution_count": 4,
   "metadata": {},
   "outputs": [
    {
     "data": {
      "text/html": [
       "<div>\n",
       "<style scoped>\n",
       "    .dataframe tbody tr th:only-of-type {\n",
       "        vertical-align: middle;\n",
       "    }\n",
       "\n",
       "    .dataframe tbody tr th {\n",
       "        vertical-align: top;\n",
       "    }\n",
       "\n",
       "    .dataframe thead th {\n",
       "        text-align: right;\n",
       "    }\n",
       "</style>\n",
       "<table border=\"1\" class=\"dataframe\">\n",
       "  <thead>\n",
       "    <tr style=\"text-align: right;\">\n",
       "      <th></th>\n",
       "      <th>0</th>\n",
       "      <th>1</th>\n",
       "      <th>2</th>\n",
       "      <th>3</th>\n",
       "    </tr>\n",
       "  </thead>\n",
       "  <tbody>\n",
       "    <tr>\n",
       "      <th>0</th>\n",
       "      <td>2263734564000</td>\n",
       "      <td>231.59665</td>\n",
       "      <td>8.406437</td>\n",
       "      <td>-65.78639</td>\n",
       "    </tr>\n",
       "    <tr>\n",
       "      <th>1</th>\n",
       "      <td>2263739503000</td>\n",
       "      <td>231.88106</td>\n",
       "      <td>10.277120</td>\n",
       "      <td>-68.14765</td>\n",
       "    </tr>\n",
       "    <tr>\n",
       "      <th>2</th>\n",
       "      <td>2263744482000</td>\n",
       "      <td>231.48561</td>\n",
       "      <td>8.862655</td>\n",
       "      <td>-65.99789</td>\n",
       "    </tr>\n",
       "    <tr>\n",
       "      <th>3</th>\n",
       "      <td>2263749482000</td>\n",
       "      <td>258.91132</td>\n",
       "      <td>11.825000</td>\n",
       "      <td>-66.32058</td>\n",
       "    </tr>\n",
       "    <tr>\n",
       "      <th>4</th>\n",
       "      <td>2263754447000</td>\n",
       "      <td>260.28268</td>\n",
       "      <td>12.254481</td>\n",
       "      <td>-66.41949</td>\n",
       "    </tr>\n",
       "  </tbody>\n",
       "</table>\n",
       "</div>"
      ],
      "text/plain": [
       "               0          1          2         3\n",
       "0  2263734564000  231.59665   8.406437 -65.78639\n",
       "1  2263739503000  231.88106  10.277120 -68.14765\n",
       "2  2263744482000  231.48561   8.862655 -65.99789\n",
       "3  2263749482000  258.91132  11.825000 -66.32058\n",
       "4  2263754447000  260.28268  12.254481 -66.41949"
      ]
     },
     "execution_count": 4,
     "metadata": {},
     "output_type": "execute_result"
    }
   ],
   "source": [
    "df.head()"
   ]
  },
  {
   "cell_type": "markdown",
   "metadata": {},
   "source": [
    "By observing the dataset, we got 3 type of files for activity\n",
    "['ori', 'acc', 'gyro']"
   ]
  },
  {
   "cell_type": "markdown",
   "metadata": {},
   "source": [
    "filename = <b>'{actvity_name}__{feature_type}_{filename}.txt'<b>\n",
    "\n",
    "For Example=> BSC_gyro_1_1.txt\n"
   ]
  },
  {
   "cell_type": "code",
   "execution_count": 6,
   "metadata": {},
   "outputs": [],
   "source": [
    "acc_columns = ['timestamp(ns)','x','y','z(m/s^2)']"
   ]
  },
  {
   "cell_type": "code",
   "execution_count": 7,
   "metadata": {},
   "outputs": [],
   "source": [
    "ori_columns = ['timestamp(ns)', 'Azimuth' , 'Pitch', 'Roll']"
   ]
  },
  {
   "cell_type": "code",
   "execution_count": 8,
   "metadata": {},
   "outputs": [],
   "source": [
    "gyro_columns = ['timestamp(ns)','x','y','z(rad/s)']"
   ]
  },
  {
   "cell_type": "code",
   "execution_count": 9,
   "metadata": {},
   "outputs": [],
   "source": [
    "dataset_path = './dataset/MobiFall_Dataset_v2.0'\n"
   ]
  },
  {
   "cell_type": "code",
   "execution_count": 28,
   "metadata": {},
   "outputs": [],
   "source": [
    "import glob\n",
    "class DataGenerator():\n",
    "    \n",
    "    _data = []\n",
    "    \n",
    "    def __init__(self, dataset_path):\n",
    "        self._datafiles = glob.glob('./dataset/*/*/*/*/*.txt')\n",
    "        \n",
    "        \n",
    "    def get_data_files(self):\n",
    "        return self._datafiles\n",
    "    \n",
    "    \n",
    "        "
   ]
  },
  {
   "cell_type": "code",
   "execution_count": 29,
   "metadata": {},
   "outputs": [],
   "source": [
    "generator = DataGenerator('mayur')"
   ]
  },
  {
   "cell_type": "code",
   "execution_count": 32,
   "metadata": {},
   "outputs": [
    {
     "data": {
      "text/plain": [
       "1890"
      ]
     },
     "execution_count": 32,
     "metadata": {},
     "output_type": "execute_result"
    }
   ],
   "source": [
    "len(generator.get_data_files())"
   ]
  },
  {
   "cell_type": "code",
   "execution_count": 36,
   "metadata": {},
   "outputs": [
    {
     "data": {
      "text/plain": [
       "['BSC', 'ori', '15', '3.txt']"
      ]
     },
     "execution_count": 36,
     "metadata": {},
     "output_type": "execute_result"
    }
   ],
   "source": [
    "generator.get_data_files()[0].split('/')[-1].split('_')"
   ]
  },
  {
   "cell_type": "code",
   "execution_count": 37,
   "metadata": {},
   "outputs": [],
   "source": [
    "ADL, SENSOR_CODE, SUBJECT_ID, TRIAL_NO = generator.get_data_files()[0].split('/')[-1].split('_')"
   ]
  },
  {
   "cell_type": "code",
   "execution_count": 38,
   "metadata": {},
   "outputs": [
    {
     "data": {
      "text/plain": [
       "'15'"
      ]
     },
     "execution_count": 38,
     "metadata": {},
     "output_type": "execute_result"
    }
   ],
   "source": [
    "SUBJECT_ID"
   ]
  },
  {
   "cell_type": "code",
   "execution_count": 82,
   "metadata": {},
   "outputs": [],
   "source": [
    "ori_Df = pd.DataFrame(columns=ori_columns)\n",
    "acc_Df = pd.DataFrame(columns=acc_columns)\n",
    "gyro_Df = pd.DataFrame(columns=gyro_columns)\n",
    "\n",
    "for file in generator.get_data_files():\n",
    "    ADL, SENSOR_CODE, SUBJECT_ID, TRIAL_NO = file.split('/')[-1].split('_')\n",
    "    columns = None\n",
    "    if SENSOR_CODE == 'acc':\n",
    "        df = pd.read_csv(file, skiprows=16, names=acc_columns)\n",
    "        df['activity'] = ADL\n",
    "        df['subject_id'] = SUBJECT_ID\n",
    "        acc_Df = acc_Df.append(df, ignore_index=True, sort=True)        \n",
    "    elif SENSOR_CODE == 'ori':\n",
    "        df = pd.read_csv(file, skiprows=16, names=ori_columns)\n",
    "        df['activity'] = ADL\n",
    "        df['subject_id'] = SUBJECT_ID\n",
    "        ori_Df = ori_Df.append(df, ignore_index=True, sort=True)\n",
    "    elif SENSOR_CODE == 'gyro':\n",
    "        df = pd.read_csv(file, skiprows=16, names=gyro_columns)\n",
    "        df['activity'] = ADL\n",
    "        df['subject_id'] = SUBJECT_ID\n",
    "        gyro_Df = gyro_Df.append(df, ignore_index=True, sort=True)\n",
    "    else:\n",
    "        print('Unwanted data detected!! => {}'.format(file))\n",
    "    \n",
    "    \n",
    "        "
   ]
  },
  {
   "cell_type": "code",
   "execution_count": 83,
   "metadata": {},
   "outputs": [
    {
     "data": {
      "text/html": [
       "<div>\n",
       "<style scoped>\n",
       "    .dataframe tbody tr th:only-of-type {\n",
       "        vertical-align: middle;\n",
       "    }\n",
       "\n",
       "    .dataframe tbody tr th {\n",
       "        vertical-align: top;\n",
       "    }\n",
       "\n",
       "    .dataframe thead th {\n",
       "        text-align: right;\n",
       "    }\n",
       "</style>\n",
       "<table border=\"1\" class=\"dataframe\">\n",
       "  <thead>\n",
       "    <tr style=\"text-align: right;\">\n",
       "      <th></th>\n",
       "      <th>Azimuth</th>\n",
       "      <th>Pitch</th>\n",
       "      <th>Roll</th>\n",
       "      <th>activity</th>\n",
       "      <th>subject_id</th>\n",
       "      <th>timestamp(ns)</th>\n",
       "    </tr>\n",
       "  </thead>\n",
       "  <tbody>\n",
       "    <tr>\n",
       "      <th>0</th>\n",
       "      <td>19.273499</td>\n",
       "      <td>174.40622</td>\n",
       "      <td>31.021011</td>\n",
       "      <td>BSC</td>\n",
       "      <td>15</td>\n",
       "      <td>2571632215000</td>\n",
       "    </tr>\n",
       "    <tr>\n",
       "      <th>1</th>\n",
       "      <td>19.274391</td>\n",
       "      <td>174.41716</td>\n",
       "      <td>31.022657</td>\n",
       "      <td>BSC</td>\n",
       "      <td>15</td>\n",
       "      <td>2571638275000</td>\n",
       "    </tr>\n",
       "    <tr>\n",
       "      <th>2</th>\n",
       "      <td>19.495820</td>\n",
       "      <td>174.16460</td>\n",
       "      <td>31.328773</td>\n",
       "      <td>BSC</td>\n",
       "      <td>15</td>\n",
       "      <td>2571642239000</td>\n",
       "    </tr>\n",
       "    <tr>\n",
       "      <th>3</th>\n",
       "      <td>19.738337</td>\n",
       "      <td>173.89550</td>\n",
       "      <td>31.626282</td>\n",
       "      <td>BSC</td>\n",
       "      <td>15</td>\n",
       "      <td>2571647220000</td>\n",
       "    </tr>\n",
       "    <tr>\n",
       "      <th>4</th>\n",
       "      <td>19.999420</td>\n",
       "      <td>173.62091</td>\n",
       "      <td>31.921803</td>\n",
       "      <td>BSC</td>\n",
       "      <td>15</td>\n",
       "      <td>2571652295000</td>\n",
       "    </tr>\n",
       "  </tbody>\n",
       "</table>\n",
       "</div>"
      ],
      "text/plain": [
       "     Azimuth      Pitch       Roll activity subject_id  timestamp(ns)\n",
       "0  19.273499  174.40622  31.021011      BSC         15  2571632215000\n",
       "1  19.274391  174.41716  31.022657      BSC         15  2571638275000\n",
       "2  19.495820  174.16460  31.328773      BSC         15  2571642239000\n",
       "3  19.738337  173.89550  31.626282      BSC         15  2571647220000\n",
       "4  19.999420  173.62091  31.921803      BSC         15  2571652295000"
      ]
     },
     "execution_count": 83,
     "metadata": {},
     "output_type": "execute_result"
    }
   ],
   "source": [
    "ori_Df.head()"
   ]
  },
  {
   "cell_type": "code",
   "execution_count": 84,
   "metadata": {},
   "outputs": [
    {
     "data": {
      "text/html": [
       "<div>\n",
       "<style scoped>\n",
       "    .dataframe tbody tr th:only-of-type {\n",
       "        vertical-align: middle;\n",
       "    }\n",
       "\n",
       "    .dataframe tbody tr th {\n",
       "        vertical-align: top;\n",
       "    }\n",
       "\n",
       "    .dataframe thead th {\n",
       "        text-align: right;\n",
       "    }\n",
       "</style>\n",
       "<table border=\"1\" class=\"dataframe\">\n",
       "  <thead>\n",
       "    <tr style=\"text-align: right;\">\n",
       "      <th></th>\n",
       "      <th>activity</th>\n",
       "      <th>subject_id</th>\n",
       "      <th>timestamp(ns)</th>\n",
       "      <th>x</th>\n",
       "      <th>y</th>\n",
       "      <th>z(rad/s)</th>\n",
       "    </tr>\n",
       "  </thead>\n",
       "  <tbody>\n",
       "    <tr>\n",
       "      <th>0</th>\n",
       "      <td>BSC</td>\n",
       "      <td>15</td>\n",
       "      <td>2541169805000</td>\n",
       "      <td>-1.132239</td>\n",
       "      <td>0.722959</td>\n",
       "      <td>0.040928</td>\n",
       "    </tr>\n",
       "    <tr>\n",
       "      <th>1</th>\n",
       "      <td>BSC</td>\n",
       "      <td>15</td>\n",
       "      <td>2541174716000</td>\n",
       "      <td>-1.132239</td>\n",
       "      <td>0.744950</td>\n",
       "      <td>0.037263</td>\n",
       "    </tr>\n",
       "    <tr>\n",
       "      <th>2</th>\n",
       "      <td>BSC</td>\n",
       "      <td>15</td>\n",
       "      <td>2541179712000</td>\n",
       "      <td>-1.179581</td>\n",
       "      <td>0.737620</td>\n",
       "      <td>0.030849</td>\n",
       "    </tr>\n",
       "    <tr>\n",
       "      <th>3</th>\n",
       "      <td>BSC</td>\n",
       "      <td>15</td>\n",
       "      <td>2541184711000</td>\n",
       "      <td>-1.172250</td>\n",
       "      <td>0.735787</td>\n",
       "      <td>0.032376</td>\n",
       "    </tr>\n",
       "    <tr>\n",
       "      <th>4</th>\n",
       "      <td>BSC</td>\n",
       "      <td>15</td>\n",
       "      <td>2541189705000</td>\n",
       "      <td>-1.171334</td>\n",
       "      <td>0.743423</td>\n",
       "      <td>0.040623</td>\n",
       "    </tr>\n",
       "  </tbody>\n",
       "</table>\n",
       "</div>"
      ],
      "text/plain": [
       "  activity subject_id  timestamp(ns)         x         y  z(rad/s)\n",
       "0      BSC         15  2541169805000 -1.132239  0.722959  0.040928\n",
       "1      BSC         15  2541174716000 -1.132239  0.744950  0.037263\n",
       "2      BSC         15  2541179712000 -1.179581  0.737620  0.030849\n",
       "3      BSC         15  2541184711000 -1.172250  0.735787  0.032376\n",
       "4      BSC         15  2541189705000 -1.171334  0.743423  0.040623"
      ]
     },
     "execution_count": 84,
     "metadata": {},
     "output_type": "execute_result"
    }
   ],
   "source": [
    "gyro_Df.head()"
   ]
  },
  {
   "cell_type": "code",
   "execution_count": 85,
   "metadata": {},
   "outputs": [
    {
     "data": {
      "text/html": [
       "<div>\n",
       "<style scoped>\n",
       "    .dataframe tbody tr th:only-of-type {\n",
       "        vertical-align: middle;\n",
       "    }\n",
       "\n",
       "    .dataframe tbody tr th {\n",
       "        vertical-align: top;\n",
       "    }\n",
       "\n",
       "    .dataframe thead th {\n",
       "        text-align: right;\n",
       "    }\n",
       "</style>\n",
       "<table border=\"1\" class=\"dataframe\">\n",
       "  <thead>\n",
       "    <tr style=\"text-align: right;\">\n",
       "      <th></th>\n",
       "      <th>Azimuth</th>\n",
       "      <th>Pitch</th>\n",
       "      <th>Roll</th>\n",
       "      <th>activity</th>\n",
       "      <th>subject_id</th>\n",
       "      <th>timestamp(ns)</th>\n",
       "    </tr>\n",
       "  </thead>\n",
       "  <tbody>\n",
       "    <tr>\n",
       "      <th>0</th>\n",
       "      <td>19.273499</td>\n",
       "      <td>174.40622</td>\n",
       "      <td>31.021011</td>\n",
       "      <td>BSC</td>\n",
       "      <td>15</td>\n",
       "      <td>2571632215000</td>\n",
       "    </tr>\n",
       "    <tr>\n",
       "      <th>1</th>\n",
       "      <td>19.274391</td>\n",
       "      <td>174.41716</td>\n",
       "      <td>31.022657</td>\n",
       "      <td>BSC</td>\n",
       "      <td>15</td>\n",
       "      <td>2571638275000</td>\n",
       "    </tr>\n",
       "    <tr>\n",
       "      <th>2</th>\n",
       "      <td>19.495820</td>\n",
       "      <td>174.16460</td>\n",
       "      <td>31.328773</td>\n",
       "      <td>BSC</td>\n",
       "      <td>15</td>\n",
       "      <td>2571642239000</td>\n",
       "    </tr>\n",
       "    <tr>\n",
       "      <th>3</th>\n",
       "      <td>19.738337</td>\n",
       "      <td>173.89550</td>\n",
       "      <td>31.626282</td>\n",
       "      <td>BSC</td>\n",
       "      <td>15</td>\n",
       "      <td>2571647220000</td>\n",
       "    </tr>\n",
       "    <tr>\n",
       "      <th>4</th>\n",
       "      <td>19.999420</td>\n",
       "      <td>173.62091</td>\n",
       "      <td>31.921803</td>\n",
       "      <td>BSC</td>\n",
       "      <td>15</td>\n",
       "      <td>2571652295000</td>\n",
       "    </tr>\n",
       "  </tbody>\n",
       "</table>\n",
       "</div>"
      ],
      "text/plain": [
       "     Azimuth      Pitch       Roll activity subject_id  timestamp(ns)\n",
       "0  19.273499  174.40622  31.021011      BSC         15  2571632215000\n",
       "1  19.274391  174.41716  31.022657      BSC         15  2571638275000\n",
       "2  19.495820  174.16460  31.328773      BSC         15  2571642239000\n",
       "3  19.738337  173.89550  31.626282      BSC         15  2571647220000\n",
       "4  19.999420  173.62091  31.921803      BSC         15  2571652295000"
      ]
     },
     "execution_count": 85,
     "metadata": {},
     "output_type": "execute_result"
    }
   ],
   "source": [
    "ori_Df.head()"
   ]
  },
  {
   "cell_type": "code",
   "execution_count": 86,
   "metadata": {},
   "outputs": [
    {
     "data": {
      "text/plain": [
       "'Shape ori Df = (2370472, 6) Shape of acc Df = (1044765, 6) Shape of gyro Df (2389589, 6)'"
      ]
     },
     "execution_count": 86,
     "metadata": {},
     "output_type": "execute_result"
    }
   ],
   "source": [
    "\"Shape ori Df = \"+str(ori_Df.shape)+ \" Shape of acc Df = \"+str(acc_Df.shape)+ \" Shape of gyro Df \"+str(gyro_Df.shape)"
   ]
  },
  {
   "cell_type": "code",
   "execution_count": 87,
   "metadata": {},
   "outputs": [
    {
     "data": {
      "text/html": [
       "<div>\n",
       "<style scoped>\n",
       "    .dataframe tbody tr th:only-of-type {\n",
       "        vertical-align: middle;\n",
       "    }\n",
       "\n",
       "    .dataframe tbody tr th {\n",
       "        vertical-align: top;\n",
       "    }\n",
       "\n",
       "    .dataframe thead th {\n",
       "        text-align: right;\n",
       "    }\n",
       "</style>\n",
       "<table border=\"1\" class=\"dataframe\">\n",
       "  <thead>\n",
       "    <tr style=\"text-align: right;\">\n",
       "      <th></th>\n",
       "      <th>Azimuth</th>\n",
       "      <th>Pitch</th>\n",
       "      <th>Roll</th>\n",
       "    </tr>\n",
       "  </thead>\n",
       "  <tbody>\n",
       "    <tr>\n",
       "      <th>count</th>\n",
       "      <td>2.370472e+06</td>\n",
       "      <td>2.370472e+06</td>\n",
       "      <td>2.370472e+06</td>\n",
       "    </tr>\n",
       "    <tr>\n",
       "      <th>mean</th>\n",
       "      <td>1.843732e+02</td>\n",
       "      <td>-6.973394e+01</td>\n",
       "      <td>-1.255405e+00</td>\n",
       "    </tr>\n",
       "    <tr>\n",
       "      <th>std</th>\n",
       "      <td>1.140415e+02</td>\n",
       "      <td>4.674030e+01</td>\n",
       "      <td>2.224753e+01</td>\n",
       "    </tr>\n",
       "    <tr>\n",
       "      <th>min</th>\n",
       "      <td>-8.285666e+01</td>\n",
       "      <td>-1.799994e+02</td>\n",
       "      <td>-8.621191e+01</td>\n",
       "    </tr>\n",
       "    <tr>\n",
       "      <th>25%</th>\n",
       "      <td>8.123130e+01</td>\n",
       "      <td>-9.686837e+01</td>\n",
       "      <td>-1.087106e+01</td>\n",
       "    </tr>\n",
       "    <tr>\n",
       "      <th>50%</th>\n",
       "      <td>1.865824e+02</td>\n",
       "      <td>-7.937894e+01</td>\n",
       "      <td>-4.656869e-01</td>\n",
       "    </tr>\n",
       "    <tr>\n",
       "      <th>75%</th>\n",
       "      <td>2.965372e+02</td>\n",
       "      <td>-5.688146e+01</td>\n",
       "      <td>8.308768e+00</td>\n",
       "    </tr>\n",
       "    <tr>\n",
       "      <th>max</th>\n",
       "      <td>3.600000e+02</td>\n",
       "      <td>1.799986e+02</td>\n",
       "      <td>8.982761e+01</td>\n",
       "    </tr>\n",
       "  </tbody>\n",
       "</table>\n",
       "</div>"
      ],
      "text/plain": [
       "            Azimuth         Pitch          Roll\n",
       "count  2.370472e+06  2.370472e+06  2.370472e+06\n",
       "mean   1.843732e+02 -6.973394e+01 -1.255405e+00\n",
       "std    1.140415e+02  4.674030e+01  2.224753e+01\n",
       "min   -8.285666e+01 -1.799994e+02 -8.621191e+01\n",
       "25%    8.123130e+01 -9.686837e+01 -1.087106e+01\n",
       "50%    1.865824e+02 -7.937894e+01 -4.656869e-01\n",
       "75%    2.965372e+02 -5.688146e+01  8.308768e+00\n",
       "max    3.600000e+02  1.799986e+02  8.982761e+01"
      ]
     },
     "execution_count": 87,
     "metadata": {},
     "output_type": "execute_result"
    }
   ],
   "source": [
    "ori_Df.describe()"
   ]
  },
  {
   "cell_type": "code",
   "execution_count": 88,
   "metadata": {},
   "outputs": [
    {
     "data": {
      "text/html": [
       "<div>\n",
       "<style scoped>\n",
       "    .dataframe tbody tr th:only-of-type {\n",
       "        vertical-align: middle;\n",
       "    }\n",
       "\n",
       "    .dataframe tbody tr th {\n",
       "        vertical-align: top;\n",
       "    }\n",
       "\n",
       "    .dataframe thead th {\n",
       "        text-align: right;\n",
       "    }\n",
       "</style>\n",
       "<table border=\"1\" class=\"dataframe\">\n",
       "  <thead>\n",
       "    <tr style=\"text-align: right;\">\n",
       "      <th></th>\n",
       "      <th>x</th>\n",
       "      <th>y</th>\n",
       "      <th>z(rad/s)</th>\n",
       "    </tr>\n",
       "  </thead>\n",
       "  <tbody>\n",
       "    <tr>\n",
       "      <th>count</th>\n",
       "      <td>2.389589e+06</td>\n",
       "      <td>2.389589e+06</td>\n",
       "      <td>2.389589e+06</td>\n",
       "    </tr>\n",
       "    <tr>\n",
       "      <th>mean</th>\n",
       "      <td>-2.410321e-02</td>\n",
       "      <td>-4.059009e-03</td>\n",
       "      <td>-8.268760e-03</td>\n",
       "    </tr>\n",
       "    <tr>\n",
       "      <th>std</th>\n",
       "      <td>1.021096e+00</td>\n",
       "      <td>1.002171e+00</td>\n",
       "      <td>6.803024e-01</td>\n",
       "    </tr>\n",
       "    <tr>\n",
       "      <th>min</th>\n",
       "      <td>-9.993755e+00</td>\n",
       "      <td>-1.000781e+01</td>\n",
       "      <td>-1.000597e+01</td>\n",
       "    </tr>\n",
       "    <tr>\n",
       "      <th>25%</th>\n",
       "      <td>-1.203405e-01</td>\n",
       "      <td>-1.444696e-01</td>\n",
       "      <td>-6.933320e-02</td>\n",
       "    </tr>\n",
       "    <tr>\n",
       "      <th>50%</th>\n",
       "      <td>3.054326e-04</td>\n",
       "      <td>3.665192e-03</td>\n",
       "      <td>1.038471e-02</td>\n",
       "    </tr>\n",
       "    <tr>\n",
       "      <th>75%</th>\n",
       "      <td>1.643227e-01</td>\n",
       "      <td>1.597413e-01</td>\n",
       "      <td>9.651671e-02</td>\n",
       "    </tr>\n",
       "    <tr>\n",
       "      <th>max</th>\n",
       "      <td>9.995282e+00</td>\n",
       "      <td>1.000811e+01</td>\n",
       "      <td>1.000689e+01</td>\n",
       "    </tr>\n",
       "  </tbody>\n",
       "</table>\n",
       "</div>"
      ],
      "text/plain": [
       "                  x             y      z(rad/s)\n",
       "count  2.389589e+06  2.389589e+06  2.389589e+06\n",
       "mean  -2.410321e-02 -4.059009e-03 -8.268760e-03\n",
       "std    1.021096e+00  1.002171e+00  6.803024e-01\n",
       "min   -9.993755e+00 -1.000781e+01 -1.000597e+01\n",
       "25%   -1.203405e-01 -1.444696e-01 -6.933320e-02\n",
       "50%    3.054326e-04  3.665192e-03  1.038471e-02\n",
       "75%    1.643227e-01  1.597413e-01  9.651671e-02\n",
       "max    9.995282e+00  1.000811e+01  1.000689e+01"
      ]
     },
     "execution_count": 88,
     "metadata": {},
     "output_type": "execute_result"
    }
   ],
   "source": [
    "gyro_Df.describe()"
   ]
  },
  {
   "cell_type": "code",
   "execution_count": 89,
   "metadata": {},
   "outputs": [
    {
     "data": {
      "text/html": [
       "<div>\n",
       "<style scoped>\n",
       "    .dataframe tbody tr th:only-of-type {\n",
       "        vertical-align: middle;\n",
       "    }\n",
       "\n",
       "    .dataframe tbody tr th {\n",
       "        vertical-align: top;\n",
       "    }\n",
       "\n",
       "    .dataframe thead th {\n",
       "        text-align: right;\n",
       "    }\n",
       "</style>\n",
       "<table border=\"1\" class=\"dataframe\">\n",
       "  <thead>\n",
       "    <tr style=\"text-align: right;\">\n",
       "      <th></th>\n",
       "      <th>x</th>\n",
       "      <th>y</th>\n",
       "      <th>z(m/s^2)</th>\n",
       "    </tr>\n",
       "  </thead>\n",
       "  <tbody>\n",
       "    <tr>\n",
       "      <th>count</th>\n",
       "      <td>1.044765e+06</td>\n",
       "      <td>1.044765e+06</td>\n",
       "      <td>1.044765e+06</td>\n",
       "    </tr>\n",
       "    <tr>\n",
       "      <th>mean</th>\n",
       "      <td>-2.455672e-01</td>\n",
       "      <td>7.217378e+00</td>\n",
       "      <td>1.379892e+00</td>\n",
       "    </tr>\n",
       "    <tr>\n",
       "      <th>std</th>\n",
       "      <td>4.060810e+00</td>\n",
       "      <td>5.218344e+00</td>\n",
       "      <td>4.219554e+00</td>\n",
       "    </tr>\n",
       "    <tr>\n",
       "      <th>min</th>\n",
       "      <td>-1.950796e+01</td>\n",
       "      <td>-1.945050e+01</td>\n",
       "      <td>-1.949838e+01</td>\n",
       "    </tr>\n",
       "    <tr>\n",
       "      <th>25%</th>\n",
       "      <td>-2.231396e+00</td>\n",
       "      <td>3.035848e+00</td>\n",
       "      <td>-7.757214e-01</td>\n",
       "    </tr>\n",
       "    <tr>\n",
       "      <th>50%</th>\n",
       "      <td>-1.819593e-01</td>\n",
       "      <td>9.021352e+00</td>\n",
       "      <td>4.501099e-01</td>\n",
       "    </tr>\n",
       "    <tr>\n",
       "      <th>75%</th>\n",
       "      <td>1.589750e+00</td>\n",
       "      <td>9.883265e+00</td>\n",
       "      <td>3.763685e+00</td>\n",
       "    </tr>\n",
       "    <tr>\n",
       "      <th>max</th>\n",
       "      <td>1.953669e+01</td>\n",
       "      <td>1.959415e+01</td>\n",
       "      <td>1.953669e+01</td>\n",
       "    </tr>\n",
       "  </tbody>\n",
       "</table>\n",
       "</div>"
      ],
      "text/plain": [
       "                  x             y      z(m/s^2)\n",
       "count  1.044765e+06  1.044765e+06  1.044765e+06\n",
       "mean  -2.455672e-01  7.217378e+00  1.379892e+00\n",
       "std    4.060810e+00  5.218344e+00  4.219554e+00\n",
       "min   -1.950796e+01 -1.945050e+01 -1.949838e+01\n",
       "25%   -2.231396e+00  3.035848e+00 -7.757214e-01\n",
       "50%   -1.819593e-01  9.021352e+00  4.501099e-01\n",
       "75%    1.589750e+00  9.883265e+00  3.763685e+00\n",
       "max    1.953669e+01  1.959415e+01  1.953669e+01"
      ]
     },
     "execution_count": 89,
     "metadata": {},
     "output_type": "execute_result"
    }
   ],
   "source": [
    "acc_Df.describe()"
   ]
  },
  {
   "cell_type": "code",
   "execution_count": 90,
   "metadata": {},
   "outputs": [
    {
     "data": {
      "text/plain": [
       "array(['15', '7', '11', '2', '16', '21', '10', '29', '13', '8', '3', '12',\n",
       "       '6', '20', '18', '9', '5', '14', '17', '1', '19', '30', '4', '31'],\n",
       "      dtype=object)"
      ]
     },
     "execution_count": 90,
     "metadata": {},
     "output_type": "execute_result"
    }
   ],
   "source": [
    "acc_Df['subject_id'].unique()"
   ]
  },
  {
   "cell_type": "code",
   "execution_count": 91,
   "metadata": {},
   "outputs": [],
   "source": [
    "dataDf = acc_Df.merge(gyro_Df, on='timestamp(ns)').merge(ori_Df, on='timestamp(ns)')"
   ]
  },
  {
   "cell_type": "code",
   "execution_count": 92,
   "metadata": {},
   "outputs": [
    {
     "data": {
      "text/plain": [
       "(320, 16)"
      ]
     },
     "execution_count": 92,
     "metadata": {},
     "output_type": "execute_result"
    }
   ],
   "source": [
    "dataDf.shape"
   ]
  },
  {
   "cell_type": "code",
   "execution_count": 93,
   "metadata": {},
   "outputs": [
    {
     "data": {
      "text/html": [
       "<div>\n",
       "<style scoped>\n",
       "    .dataframe tbody tr th:only-of-type {\n",
       "        vertical-align: middle;\n",
       "    }\n",
       "\n",
       "    .dataframe tbody tr th {\n",
       "        vertical-align: top;\n",
       "    }\n",
       "\n",
       "    .dataframe thead th {\n",
       "        text-align: right;\n",
       "    }\n",
       "</style>\n",
       "<table border=\"1\" class=\"dataframe\">\n",
       "  <thead>\n",
       "    <tr style=\"text-align: right;\">\n",
       "      <th></th>\n",
       "      <th>activity_x</th>\n",
       "      <th>subject_id_x</th>\n",
       "      <th>timestamp(ns)</th>\n",
       "      <th>x_x</th>\n",
       "      <th>y_x</th>\n",
       "      <th>z(m/s^2)</th>\n",
       "      <th>activity_y</th>\n",
       "      <th>subject_id_y</th>\n",
       "      <th>x_y</th>\n",
       "      <th>y_y</th>\n",
       "      <th>z(rad/s)</th>\n",
       "      <th>Azimuth</th>\n",
       "      <th>Pitch</th>\n",
       "      <th>Roll</th>\n",
       "      <th>activity</th>\n",
       "      <th>subject_id</th>\n",
       "    </tr>\n",
       "  </thead>\n",
       "  <tbody>\n",
       "    <tr>\n",
       "      <th>0</th>\n",
       "      <td>BSC</td>\n",
       "      <td>15</td>\n",
       "      <td>2580049700000</td>\n",
       "      <td>4.845864</td>\n",
       "      <td>-1.503559</td>\n",
       "      <td>-8.580819</td>\n",
       "      <td>STD</td>\n",
       "      <td>7</td>\n",
       "      <td>0.007330</td>\n",
       "      <td>0.018326</td>\n",
       "      <td>0.015272</td>\n",
       "      <td>270.563320</td>\n",
       "      <td>-93.043950</td>\n",
       "      <td>-0.623409</td>\n",
       "      <td>STD</td>\n",
       "      <td>7</td>\n",
       "    </tr>\n",
       "    <tr>\n",
       "      <th>1</th>\n",
       "      <td>BSC</td>\n",
       "      <td>15</td>\n",
       "      <td>894311041000</td>\n",
       "      <td>4.692636</td>\n",
       "      <td>2.030283</td>\n",
       "      <td>8.149862</td>\n",
       "      <td>SCH</td>\n",
       "      <td>5</td>\n",
       "      <td>0.014355</td>\n",
       "      <td>0.011301</td>\n",
       "      <td>0.020464</td>\n",
       "      <td>333.170600</td>\n",
       "      <td>-24.819588</td>\n",
       "      <td>-31.839170</td>\n",
       "      <td>SCH</td>\n",
       "      <td>5</td>\n",
       "    </tr>\n",
       "    <tr>\n",
       "      <th>2</th>\n",
       "      <td>FKL</td>\n",
       "      <td>15</td>\n",
       "      <td>2240665667000</td>\n",
       "      <td>-0.641646</td>\n",
       "      <td>-9.519346</td>\n",
       "      <td>0.488417</td>\n",
       "      <td>JOG</td>\n",
       "      <td>2</td>\n",
       "      <td>1.325578</td>\n",
       "      <td>-2.294715</td>\n",
       "      <td>0.999375</td>\n",
       "      <td>85.400700</td>\n",
       "      <td>-76.430850</td>\n",
       "      <td>2.340226</td>\n",
       "      <td>JOG</td>\n",
       "      <td>2</td>\n",
       "    </tr>\n",
       "    <tr>\n",
       "      <th>3</th>\n",
       "      <td>JOG</td>\n",
       "      <td>7</td>\n",
       "      <td>3414694749000</td>\n",
       "      <td>5.650316</td>\n",
       "      <td>7.134721</td>\n",
       "      <td>0.430956</td>\n",
       "      <td>FOL</td>\n",
       "      <td>16</td>\n",
       "      <td>-0.019242</td>\n",
       "      <td>0.013134</td>\n",
       "      <td>0.015882</td>\n",
       "      <td>205.229450</td>\n",
       "      <td>-166.525240</td>\n",
       "      <td>-30.087284</td>\n",
       "      <td>FOL</td>\n",
       "      <td>16</td>\n",
       "    </tr>\n",
       "    <tr>\n",
       "      <th>4</th>\n",
       "      <td>JOG</td>\n",
       "      <td>7</td>\n",
       "      <td>3318809102000</td>\n",
       "      <td>-0.536301</td>\n",
       "      <td>9.969456</td>\n",
       "      <td>5.008670</td>\n",
       "      <td>JOG</td>\n",
       "      <td>7</td>\n",
       "      <td>2.177124</td>\n",
       "      <td>0.127060</td>\n",
       "      <td>0.255647</td>\n",
       "      <td>67.742615</td>\n",
       "      <td>-103.563520</td>\n",
       "      <td>11.364722</td>\n",
       "      <td>JOG</td>\n",
       "      <td>7</td>\n",
       "    </tr>\n",
       "  </tbody>\n",
       "</table>\n",
       "</div>"
      ],
      "text/plain": [
       "  activity_x subject_id_x  timestamp(ns)       x_x       y_x  z(m/s^2)  \\\n",
       "0        BSC           15  2580049700000  4.845864 -1.503559 -8.580819   \n",
       "1        BSC           15   894311041000  4.692636  2.030283  8.149862   \n",
       "2        FKL           15  2240665667000 -0.641646 -9.519346  0.488417   \n",
       "3        JOG            7  3414694749000  5.650316  7.134721  0.430956   \n",
       "4        JOG            7  3318809102000 -0.536301  9.969456  5.008670   \n",
       "\n",
       "  activity_y subject_id_y       x_y       y_y  z(rad/s)     Azimuth  \\\n",
       "0        STD            7  0.007330  0.018326  0.015272  270.563320   \n",
       "1        SCH            5  0.014355  0.011301  0.020464  333.170600   \n",
       "2        JOG            2  1.325578 -2.294715  0.999375   85.400700   \n",
       "3        FOL           16 -0.019242  0.013134  0.015882  205.229450   \n",
       "4        JOG            7  2.177124  0.127060  0.255647   67.742615   \n",
       "\n",
       "        Pitch       Roll activity subject_id  \n",
       "0  -93.043950  -0.623409      STD          7  \n",
       "1  -24.819588 -31.839170      SCH          5  \n",
       "2  -76.430850   2.340226      JOG          2  \n",
       "3 -166.525240 -30.087284      FOL         16  \n",
       "4 -103.563520  11.364722      JOG          7  "
      ]
     },
     "execution_count": 93,
     "metadata": {},
     "output_type": "execute_result"
    }
   ],
   "source": [
    "dataDf.head()"
   ]
  },
  {
   "cell_type": "code",
   "execution_count": null,
   "metadata": {},
   "outputs": [],
   "source": []
  }
 ],
 "metadata": {
  "kernelspec": {
   "display_name": "Python 3",
   "language": "python",
   "name": "python3"
  },
  "language_info": {
   "codemirror_mode": {
    "name": "ipython",
    "version": 3
   },
   "file_extension": ".py",
   "mimetype": "text/x-python",
   "name": "python",
   "nbconvert_exporter": "python",
   "pygments_lexer": "ipython3",
   "version": "3.5.2"
  }
 },
 "nbformat": 4,
 "nbformat_minor": 2
}
